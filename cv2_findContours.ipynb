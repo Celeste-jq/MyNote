{
 "cells": [
  {
   "cell_type": "code",
   "execution_count": 7,
   "id": "f8c7932c",
   "metadata": {},
   "outputs": [
    {
     "data": {
      "text/plain": [
       "True"
      ]
     },
     "execution_count": 7,
     "metadata": {},
     "output_type": "execute_result"
    }
   ],
   "source": [
    "import cv2\n",
    "import numpy as np\n",
    "\n",
    "# 创建一个空白图像\n",
    "image = np.zeros((300, 300), dtype=np.uint8)\n",
    "\n",
    "# 绘制白色矩形\n",
    "cv2.rectangle(image, (50, 50), (250, 250), 255, -1)\n",
    "\n",
    "# 绘制黑色圆形\n",
    "cv2.circle(image, (150, 150), 80, 0, -1)\n",
    "\n",
    "# 绘制白色矩形\n",
    "cv2.rectangle(image, (160, 160), (170, 170), 255, -1)\n",
    "\n",
    "# 保存图像\n",
    "cv2.imwrite('binary_image.png', image)\n"
   ]
  },
  {
   "cell_type": "code",
   "execution_count": 15,
   "id": "8785d441",
   "metadata": {},
   "outputs": [
    {
     "name": "stdout",
     "output_type": "stream",
     "text": [
      "40401\n",
      "20537\n",
      "121\n",
      "121\n"
     ]
    }
   ],
   "source": [
    "import cv2\n",
    "import numpy as np\n",
    "\n",
    "# 读取二值图像\n",
    "image = cv2.imread('binary_image.png', 0)\n",
    "\n",
    "# 创建一个彩色图像副本\n",
    "image_color = cv2.cvtColor(image, cv2.COLOR_GRAY2BGR)\n",
    "\n",
    "# 寻找轮廓及其层次结构\n",
    "contours, hierarchy = cv2.findContours(image, cv2.RETR_TREE, cv2.CHAIN_APPROX_SIMPLE)\n",
    "\n",
    "sum_white = 0\n",
    "# 遍历每个轮廓及其层次结构\n",
    "for i, contour in enumerate(contours):\n",
    "    # 绘制所有轮廓为蓝色\n",
    "    cv2.drawContours(image_color, contours, i, (255, 0, 0), 2)\n",
    "\n",
    "    # 创建一个与原图像大小相同的掩膜图像\n",
    "    mask = np.zeros_like(image)\n",
    "\n",
    "    # 在掩膜图像中绘制当前轮廓的白色像素\n",
    "    cv2.drawContours(mask, contours, i, 255, -1)\n",
    "\n",
    "    # 计算白色像素的个数\n",
    "    white_pixels = cv2.countNonZero(mask)\n",
    "    print(white_pixels)\n",
    "    # 如果白色像素块的面积不超过阈值，则将其涂成绿色\n",
    "    threshold = 150  # 阈值，根据需要进行调整\n",
    "    if white_pixels <= threshold:\n",
    "        image_color[mask > 0] = (0, 255, 0)\n",
    "        sum_white += white_pixels\n",
    "        \n",
    "print(sum_white)\n",
    "# 显示结果图像\n",
    "cv2.imshow('Result', image_color)\n",
    "cv2.waitKey(0)\n",
    "cv2.destroyAllWindows()\n"
   ]
  },
  {
   "cell_type": "code",
   "execution_count": null,
   "id": "215ba454",
   "metadata": {},
   "outputs": [],
   "source": []
  }
 ],
 "metadata": {
  "kernelspec": {
   "display_name": "Python 3 (ipykernel)",
   "language": "python",
   "name": "python3"
  },
  "language_info": {
   "codemirror_mode": {
    "name": "ipython",
    "version": 3
   },
   "file_extension": ".py",
   "mimetype": "text/x-python",
   "name": "python",
   "nbconvert_exporter": "python",
   "pygments_lexer": "ipython3",
   "version": "3.9.13"
  }
 },
 "nbformat": 4,
 "nbformat_minor": 5
}
