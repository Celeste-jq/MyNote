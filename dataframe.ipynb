{
 "cells": [
  {
   "cell_type": "markdown",
   "id": "c5e9e13c",
   "metadata": {},
   "source": [
    "## dataframe存列表list"
   ]
  },
  {
   "cell_type": "code",
   "execution_count": 1,
   "id": "44b83bb3",
   "metadata": {},
   "outputs": [
    {
     "data": {
      "text/plain": [
       "array([[1. , 2. , 3. , 4. ],\n",
       "       [0.1, 0.2, 0.3, 0.4]])"
      ]
     },
     "execution_count": 1,
     "metadata": {},
     "output_type": "execute_result"
    }
   ],
   "source": [
    "import pandas as pd\n",
    "import numpy as np\n",
    " \n",
    "l1 = [1,2,3,4]\n",
    "l2 = [.1,.2,.3,.4]\n",
    " \n",
    "lists = np.array([l1,l2])\n",
    "lists"
   ]
  },
  {
   "cell_type": "code",
   "execution_count": 2,
   "id": "38b4b5c9",
   "metadata": {},
   "outputs": [
    {
     "data": {
      "text/plain": [
       "[array([1., 2., 3., 4.]), array([0.1, 0.2, 0.3, 0.4])]"
      ]
     },
     "execution_count": 2,
     "metadata": {},
     "output_type": "execute_result"
    }
   ],
   "source": [
    "lists = list(lists)\n",
    "lists"
   ]
  },
  {
   "cell_type": "code",
   "execution_count": 3,
   "id": "7afc4ca1",
   "metadata": {},
   "outputs": [
    {
     "name": "stdout",
     "output_type": "stream",
     "text": [
      "                   list  label\n",
      "0  [1.0, 2.0, 3.0, 4.0]      1\n",
      "1  [0.1, 0.2, 0.3, 0.4]      0\n"
     ]
    }
   ],
   "source": [
    "labels = [1,0]\n",
    " \n",
    "df = pd.DataFrame()\n",
    "df[\"list\"] = lists\n",
    "df[\"label\"] = labels\n",
    " \n",
    "print(df)"
   ]
  },
  {
   "cell_type": "code",
   "execution_count": 4,
   "id": "649670dd",
   "metadata": {},
   "outputs": [],
   "source": [
    "df.to_csv('myfile.csv')"
   ]
  },
  {
   "cell_type": "code",
   "execution_count": 4,
   "id": "da3e6ddb",
   "metadata": {},
   "outputs": [
    {
     "data": {
      "text/html": [
       "<div>\n",
       "<style scoped>\n",
       "    .dataframe tbody tr th:only-of-type {\n",
       "        vertical-align: middle;\n",
       "    }\n",
       "\n",
       "    .dataframe tbody tr th {\n",
       "        vertical-align: top;\n",
       "    }\n",
       "\n",
       "    .dataframe thead th {\n",
       "        text-align: right;\n",
       "    }\n",
       "</style>\n",
       "<table border=\"1\" class=\"dataframe\">\n",
       "  <thead>\n",
       "    <tr style=\"text-align: right;\">\n",
       "      <th></th>\n",
       "      <th>A</th>\n",
       "      <th>B</th>\n",
       "    </tr>\n",
       "  </thead>\n",
       "  <tbody>\n",
       "    <tr>\n",
       "      <th>0</th>\n",
       "      <td>[2.2537012292214302, 0.043285521462098825, 0.5...</td>\n",
       "      <td>[4.341806399715074, 0.41215939342741625, 0.983...</td>\n",
       "    </tr>\n",
       "  </tbody>\n",
       "</table>\n",
       "</div>"
      ],
      "text/plain": [
       "                                                   A  \\\n",
       "0  [2.2537012292214302, 0.043285521462098825, 0.5...   \n",
       "\n",
       "                                                   B  \n",
       "0  [4.341806399715074, 0.41215939342741625, 0.983...  "
      ]
     },
     "execution_count": 4,
     "metadata": {},
     "output_type": "execute_result"
    }
   ],
   "source": [
    "x = np.random.randn(100)\n",
    "y = 2 * x + np.random.randn(100)\n",
    "\n",
    "\n",
    "data = pd.DataFrame()\n",
    "data[\"A\"] = list([np.array(x)])\n",
    "data[\"B\"] = list([np.array(y)])\n",
    "data"
   ]
  },
  {
   "cell_type": "code",
   "execution_count": 1,
   "id": "d4a35c83",
   "metadata": {},
   "outputs": [
    {
     "data": {
      "text/html": [
       "<div>\n",
       "<style scoped>\n",
       "    .dataframe tbody tr th:only-of-type {\n",
       "        vertical-align: middle;\n",
       "    }\n",
       "\n",
       "    .dataframe tbody tr th {\n",
       "        vertical-align: top;\n",
       "    }\n",
       "\n",
       "    .dataframe thead th {\n",
       "        text-align: right;\n",
       "    }\n",
       "</style>\n",
       "<table border=\"1\" class=\"dataframe\">\n",
       "  <thead>\n",
       "    <tr style=\"text-align: right;\">\n",
       "      <th></th>\n",
       "      <th>a</th>\n",
       "      <th>b</th>\n",
       "    </tr>\n",
       "  </thead>\n",
       "  <tbody>\n",
       "    <tr>\n",
       "      <th>0</th>\n",
       "      <td>1</td>\n",
       "      <td>2</td>\n",
       "    </tr>\n",
       "    <tr>\n",
       "      <th>1</th>\n",
       "      <td>1</td>\n",
       "      <td>2</td>\n",
       "    </tr>\n",
       "  </tbody>\n",
       "</table>\n",
       "</div>"
      ],
      "text/plain": [
       "   a  b\n",
       "0  1  2\n",
       "1  1  2"
      ]
     },
     "execution_count": 1,
     "metadata": {},
     "output_type": "execute_result"
    }
   ],
   "source": [
    "import pandas as pd\n",
    "import numpy as np\n",
    "data = [{'a':1,'b':2},{'a':1,'b':2}]\n",
    "df = pd.DataFrame(data)\n",
    "df\n"
   ]
  },
  {
   "cell_type": "code",
   "execution_count": null,
   "id": "388cb069",
   "metadata": {},
   "outputs": [],
   "source": []
  }
 ],
 "metadata": {
  "kernelspec": {
   "display_name": "Python 3 (ipykernel)",
   "language": "python",
   "name": "python3"
  },
  "language_info": {
   "codemirror_mode": {
    "name": "ipython",
    "version": 3
   },
   "file_extension": ".py",
   "mimetype": "text/x-python",
   "name": "python",
   "nbconvert_exporter": "python",
   "pygments_lexer": "ipython3",
   "version": "3.9.13"
  }
 },
 "nbformat": 4,
 "nbformat_minor": 5
}
