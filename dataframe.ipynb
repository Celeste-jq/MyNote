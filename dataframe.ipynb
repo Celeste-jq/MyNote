{
 "cells": [
  {
   "cell_type": "markdown",
   "id": "c5e9e13c",
   "metadata": {},
   "source": [
    "## dataframe存列表list"
   ]
  },
  {
   "cell_type": "code",
   "execution_count": 1,
   "id": "44b83bb3",
   "metadata": {},
   "outputs": [
    {
     "data": {
      "text/plain": [
       "array([[1. , 2. , 3. , 4. ],\n",
       "       [0.1, 0.2, 0.3, 0.4]])"
      ]
     },
     "execution_count": 1,
     "metadata": {},
     "output_type": "execute_result"
    }
   ],
   "source": [
    "import pandas as pd\n",
    "import numpy as np\n",
    " \n",
    "l1 = [1,2,3,4]\n",
    "l2 = [.1,.2,.3,.4]\n",
    " \n",
    "lists = np.array([l1,l2])\n",
    "lists"
   ]
  },
  {
   "cell_type": "code",
   "execution_count": 2,
   "id": "38b4b5c9",
   "metadata": {},
   "outputs": [
    {
     "data": {
      "text/plain": [
       "[array([1., 2., 3., 4.]), array([0.1, 0.2, 0.3, 0.4])]"
      ]
     },
     "execution_count": 2,
     "metadata": {},
     "output_type": "execute_result"
    }
   ],
   "source": [
    "lists = list(lists)\n",
    "lists"
   ]
  },
  {
   "cell_type": "code",
   "execution_count": 3,
   "id": "7afc4ca1",
   "metadata": {},
   "outputs": [
    {
     "name": "stdout",
     "output_type": "stream",
     "text": [
      "                   list  label\n",
      "0  [1.0, 2.0, 3.0, 4.0]      1\n",
      "1  [0.1, 0.2, 0.3, 0.4]      0\n"
     ]
    }
   ],
   "source": [
    "labels = [1,0]\n",
    " \n",
    "df = pd.DataFrame()\n",
    "df[\"list\"] = lists\n",
    "df[\"label\"] = labels\n",
    " \n",
    "print(df)"
   ]
  },
  {
   "cell_type": "code",
   "execution_count": null,
   "id": "da3e6ddb",
   "metadata": {},
   "outputs": [
    {
     "ename": "",
     "evalue": "",
     "output_type": "error",
     "traceback": [
      "\u001b[1;31m运行具有“base”的单元格需要ipykernel包。\n",
      "\u001b[1;31mRun the following command to install 'ipykernel' into the Python environment. \n",
      "\u001b[1;31mCommand: 'conda install -n base ipykernel --update-deps --force-reinstall'"
     ]
    }
   ],
   "source": [
    "x = np.random.randn(100)\n",
    "y = 2 * x + np.random.randn(100)\n",
    "\n",
    "\n",
    "data = pd.DataFrame()\n",
    "data[\"A\"] = list([np.array(x)])\n",
    "data[\"B\"] = list([np.array(y)])\n",
    "data"
   ]
  },
  {
   "cell_type": "code",
   "execution_count": null,
   "id": "d4a35c83",
   "metadata": {},
   "outputs": [],
   "source": []
  }
 ],
 "metadata": {
  "kernelspec": {
   "display_name": "Python 3 (ipykernel)",
   "language": "python",
   "name": "python3"
  },
  "language_info": {
   "codemirror_mode": {
    "name": "ipython",
    "version": 3
   },
   "file_extension": ".py",
   "mimetype": "text/x-python",
   "name": "python",
   "nbconvert_exporter": "python",
   "pygments_lexer": "ipython3",
   "version": "3.9.13"
  }
 },
 "nbformat": 4,
 "nbformat_minor": 5
}
