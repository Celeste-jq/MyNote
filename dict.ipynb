{
 "cells": [
  {
   "cell_type": "code",
   "execution_count": 1,
   "metadata": {},
   "outputs": [
    {
     "name": "stdout",
     "output_type": "stream",
     "text": [
      "{'1': 2, '2': 1, '3': 2}\n"
     ]
    }
   ],
   "source": [
    "count_dict = {}\n",
    "data = [\n",
    "    {'idx':1},\n",
    "    {'idx':1},\n",
    "    {'idx':2},\n",
    "    {'idx':3},\n",
    "    {'idx':3}\n",
    "]\n",
    "for item in data:\n",
    "    idx_str = str(item['idx'])\n",
    "    count_dict[idx_str] = count_dict.get(idx_str, 0)+1\n",
    "print(count_dict)"
   ]
  },
  {
   "cell_type": "code",
   "execution_count": null,
   "metadata": {},
   "outputs": [],
   "source": []
  }
 ],
 "metadata": {
  "kernelspec": {
   "display_name": "base",
   "language": "python",
   "name": "python3"
  },
  "language_info": {
   "codemirror_mode": {
    "name": "ipython",
    "version": 3
   },
   "file_extension": ".py",
   "mimetype": "text/x-python",
   "name": "python",
   "nbconvert_exporter": "python",
   "pygments_lexer": "ipython3",
   "version": "3.9.13"
  },
  "orig_nbformat": 4
 },
 "nbformat": 4,
 "nbformat_minor": 2
}
